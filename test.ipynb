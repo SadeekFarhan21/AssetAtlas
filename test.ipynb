{
 "cells": [
  {
   "cell_type": "code",
   "execution_count": 26,
   "metadata": {},
   "outputs": [
    {
     "name": "stdout",
     "output_type": "stream",
     "text": [
      "0         A\n",
      "1        AA\n",
      "2       AAN\n",
      "3       AAT\n",
      "4       AAV\n",
      "       ... \n",
      "3060    ZNH\n",
      "3061    ZQK\n",
      "3062    ZTR\n",
      "3063    ZTS\n",
      "3064     ZX\n",
      "Name: Ticker, Length: 3065, dtype: object\n"
     ]
    }
   ],
   "source": [
    "import pandas as pd\n",
    "\n",
    "exchange = pd.read_csv('https://raw.githubusercontent.com/dhhagan/stocks/master/scripts/stock_info.csv')\n",
    "print(nyse)\n",
    "#nyse.Ticker\n",
    "#nasdaq = exchange[exchange['Exchange'] == 'NASDAQ']\n",
    "#print(list(nasdaq.Ticker))\n",
    "#print(list(nasdaq.Name))"
   ]
  },
  {
   "cell_type": "code",
   "execution_count": 16,
   "metadata": {},
   "outputs": [
    {
     "data": {
      "text/plain": [
       "0                  Agilent Technologies\n",
       "1                            Alcoa Inc.\n",
       "2                           Aaron's Inc\n",
       "3                 American Assets Trust\n",
       "4               Advantage Oil & Gas Ltd\n",
       "                     ...               \n",
       "3060    China Southern Airlines Company\n",
       "3061                         Quiksilver\n",
       "3062            Zweig Total Return Fund\n",
       "3063    Zoetis Inc. Class A Common Stoc\n",
       "3064     China Zenix Auto International\n",
       "Name: Name, Length: 3065, dtype: object"
      ]
     },
     "execution_count": 16,
     "metadata": {},
     "output_type": "execute_result"
    }
   ],
   "source": [
    "nyse = exchange[exchange['Exchange'] == 'NYSE']\n",
    "# nyse.Ticker\n",
    "# nyse.Name"
   ]
  },
  {
   "cell_type": "code",
   "execution_count": 3,
   "metadata": {},
   "outputs": [
    {
     "data": {
      "text/html": [
       "<div>\n",
       "<style scoped>\n",
       "    .dataframe tbody tr th:only-of-type {\n",
       "        vertical-align: middle;\n",
       "    }\n",
       "\n",
       "    .dataframe tbody tr th {\n",
       "        vertical-align: top;\n",
       "    }\n",
       "\n",
       "    .dataframe thead th {\n",
       "        text-align: right;\n",
       "    }\n",
       "</style>\n",
       "<table border=\"1\" class=\"dataframe\">\n",
       "  <thead>\n",
       "    <tr style=\"text-align: right;\">\n",
       "      <th></th>\n",
       "      <th>Ticker</th>\n",
       "      <th>Name</th>\n",
       "      <th>Exchange</th>\n",
       "    </tr>\n",
       "  </thead>\n",
       "  <tbody>\n",
       "    <tr>\n",
       "      <th>3065</th>\n",
       "      <td>AAIT</td>\n",
       "      <td>AC Asia Information Tech MSCI Ishares</td>\n",
       "      <td>NASDAQ</td>\n",
       "    </tr>\n",
       "    <tr>\n",
       "      <th>3066</th>\n",
       "      <td>AAME</td>\n",
       "      <td>Atlantic American Corp.</td>\n",
       "      <td>NASDAQ</td>\n",
       "    </tr>\n",
       "    <tr>\n",
       "      <th>3067</th>\n",
       "      <td>AAON</td>\n",
       "      <td>Aaon</td>\n",
       "      <td>NASDAQ</td>\n",
       "    </tr>\n",
       "    <tr>\n",
       "      <th>3068</th>\n",
       "      <td>AAPL</td>\n",
       "      <td>Apple Inc.</td>\n",
       "      <td>NASDAQ</td>\n",
       "    </tr>\n",
       "    <tr>\n",
       "      <th>3069</th>\n",
       "      <td>AAWW</td>\n",
       "      <td>Atlas Air Worldwide Holdings</td>\n",
       "      <td>NASDAQ</td>\n",
       "    </tr>\n",
       "    <tr>\n",
       "      <th>...</th>\n",
       "      <td>...</td>\n",
       "      <td>...</td>\n",
       "      <td>...</td>\n",
       "    </tr>\n",
       "    <tr>\n",
       "      <th>5777</th>\n",
       "      <td>ZN</td>\n",
       "      <td>Zion Oil &amp; Gas Inc</td>\n",
       "      <td>NASDAQ</td>\n",
       "    </tr>\n",
       "    <tr>\n",
       "      <th>5778</th>\n",
       "      <td>ZNGA</td>\n",
       "      <td>Zynga Inc.</td>\n",
       "      <td>NASDAQ</td>\n",
       "    </tr>\n",
       "    <tr>\n",
       "      <th>5779</th>\n",
       "      <td>ZOLT</td>\n",
       "      <td>Zoltek Companies</td>\n",
       "      <td>NASDAQ</td>\n",
       "    </tr>\n",
       "    <tr>\n",
       "      <th>5780</th>\n",
       "      <td>ZOOM</td>\n",
       "      <td>Zoom Technologies</td>\n",
       "      <td>NASDAQ</td>\n",
       "    </tr>\n",
       "    <tr>\n",
       "      <th>5781</th>\n",
       "      <td>ZUMZ</td>\n",
       "      <td>Zumiez Inc.</td>\n",
       "      <td>NASDAQ</td>\n",
       "    </tr>\n",
       "  </tbody>\n",
       "</table>\n",
       "<p>2717 rows × 3 columns</p>\n",
       "</div>"
      ],
      "text/plain": [
       "     Ticker                                   Name Exchange\n",
       "3065   AAIT  AC Asia Information Tech MSCI Ishares   NASDAQ\n",
       "3066   AAME                Atlantic American Corp.   NASDAQ\n",
       "3067   AAON                                   Aaon   NASDAQ\n",
       "3068   AAPL                             Apple Inc.   NASDAQ\n",
       "3069   AAWW           Atlas Air Worldwide Holdings   NASDAQ\n",
       "...     ...                                    ...      ...\n",
       "5777     ZN                     Zion Oil & Gas Inc   NASDAQ\n",
       "5778   ZNGA                             Zynga Inc.   NASDAQ\n",
       "5779   ZOLT                       Zoltek Companies   NASDAQ\n",
       "5780   ZOOM                      Zoom Technologies   NASDAQ\n",
       "5781   ZUMZ                            Zumiez Inc.   NASDAQ\n",
       "\n",
       "[2717 rows x 3 columns]"
      ]
     },
     "execution_count": 3,
     "metadata": {},
     "output_type": "execute_result"
    }
   ],
   "source": [
    "exchange[exchange['Exchange'] == 'NASDAQ']\n"
   ]
  }
 ],
 "metadata": {
  "kernelspec": {
   "display_name": "Python 3",
   "language": "python",
   "name": "python3"
  },
  "language_info": {
   "codemirror_mode": {
    "name": "ipython",
    "version": 3
   },
   "file_extension": ".py",
   "mimetype": "text/x-python",
   "name": "python",
   "nbconvert_exporter": "python",
   "pygments_lexer": "ipython3",
   "version": "3.11.3"
  },
  "orig_nbformat": 4
 },
 "nbformat": 4,
 "nbformat_minor": 2
}
